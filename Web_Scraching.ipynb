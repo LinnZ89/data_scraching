{
 "cells": [
  {
   "cell_type": "code",
   "execution_count": 1,
   "metadata": {},
   "outputs": [],
   "source": [
    "import requests\n",
    "from bs4 import BeautifulSoup\n",
    "import pandas as pd\n",
    "from datetime import datetime"
   ]
  },
  {
   "cell_type": "code",
   "execution_count": 12,
   "metadata": {},
   "outputs": [
    {
     "name": "stdout",
     "output_type": "stream",
     "text": [
      "Requests successfully!!\n",
      "[{'Product': 'Tai nghe Bluetooth True Wireless Samsung Galaxy Buds2 Pro', 'Price': '2840000đ', 'Date': '2024-09-29'}, {'Product': 'Tai nghe Bluetooth True Wireless Redmi Buds 4 Lite', 'Price': '390000đ', 'Date': '2024-09-29'}, {'Product': 'Tai nghe Bluetooth True Wireless OPPO Enco Air3i - Chỉ có tại CellphoneS', 'Price': '890000đ', 'Date': '2024-09-29'}, {'Product': 'Tai nghe Bluetooth True Wireless HUAWEI FreeClip', 'Price': '3490000đ', 'Date': '2024-09-29'}, {'Product': 'Tai nghe Bluetooth Apple AirPods Pro 2 2023 USB-C | Chính hãng Apple Việt Nam', 'Price': '5790000đ', 'Date': '2024-09-29'}, {'Product': 'Tai nghe Bluetooth Apple AirPods 3 2022 sạc có dây | Chính hãng Apple Việt Nam', 'Price': '4090000đ', 'Date': '2024-09-29'}, {'Product': 'Tai nghe Bluetooth Apple AirPods 2 | Chính hãng Apple Việt Nam', 'Price': '2990000đ', 'Date': '2024-09-29'}, {'Product': 'Tai nghe Bluetooth Apple AirPods 3 MagSafe | Chính hãng Apple Việt Nam', 'Price': '4690000đ', 'Date': '2024-09-29'}, {'Product': 'Tai nghe Bluetooth Apple AirPods Pro 2022 | Chính hãng Apple Việt Nam', 'Price': '5350000đ', 'Date': '2024-09-29'}, {'Product': 'Tai nghe Bluetooth chụp tai Sony WH-CH520', 'Price': '1090000đ', 'Date': '2024-09-29'}, {'Product': 'Tai nghe Bluetooth True Wireless Samsung Galaxy Buds2 Pro', 'Price': '2840000đ', 'Date': '2024-09-29'}, {'Product': 'Tai nghe Bluetooth True Wireless Samsung Galaxy Buds 3 Pro', 'Price': '5490000đ', 'Date': '2024-09-29'}, {'Product': 'Tai nghe Bluetooth True Wireless JBL Wave Beam', 'Price': '1190000đ', 'Date': '2024-09-29'}, {'Product': 'Tai nghe Bluetooth True Wireless Xiaomi Redmi Buds 6 Active', 'Price': '590000đ', 'Date': '2024-09-29'}, {'Product': 'Tai nghe Bluetooth True Wireless JBL Tune Flex - Chỉ có tại CellphoneS', 'Price': '1890000đ', 'Date': '2024-09-29'}, {'Product': 'Tai nghe Bluetooth chụp tai Edifier W820NB', 'Price': '890000đ', 'Date': '2024-09-29'}, {'Product': 'Tai nghe Bluetooth True Wireless Anker Soundcore R50i A3949', 'Price': '390000đ', 'Date': '2024-09-29'}, {'Product': 'Tai nghe Bluetooth True Wireless Samsung Galaxy Buds FE', 'Price': '1290000đ', 'Date': '2024-09-29'}, {'Product': 'Tai nghe Bluetooth True Wireless Redmi Buds 4 Lite', 'Price': '390000đ', 'Date': '2024-09-29'}, {'Product': 'Tai nghe Bluetooth True Wireless Huawei FreeBuds SE 2', 'Price': '590000đ', 'Date': '2024-09-29'}, {'Product': 'Tai nghe Bluetooth True Wireless JBL Tune Beam', 'Price': '2090000đ', 'Date': '2024-09-29'}, {'Product': 'Tai nghe Bluetooth chụp tai Sony WH-CH720N', 'Price': '2490000đ', 'Date': '2024-09-29'}, {'Product': 'Tai nghe Bluetooth True Wireless Samsung Galaxy Buds 3', 'Price': '3990000đ', 'Date': '2024-09-29'}]\n"
     ]
    }
   ],
   "source": [
    "import requests\n",
    "from bs4 import BeautifulSoup\n",
    "from datetime import datetime\n",
    "\n",
    "def scrape_headphone_cellphones():\n",
    "    url = \"https://cellphones.com.vn/thiet-bi-am-thanh/tai-nghe/tai-nghe-bluetooth.html\"\n",
    "    page = requests.get(url=url).text\n",
    "\n",
    "    print(\"Requests successfully!!\")\n",
    "    soup = BeautifulSoup(page, \"html.parser\")\n",
    "\n",
    "    headphones_name_divs = soup.find_all('div', class_='product__name')\n",
    "    prices_divs = soup.find_all('p', class_=\"product__price--show\")\n",
    "\n",
    "    headphones_list = []\n",
    "\n",
    "    if headphones_name_divs and prices_divs:\n",
    "\n",
    "        for headphone_div, price_div in zip(headphones_name_divs, prices_divs):\n",
    "            headphone_name = headphone_div.find('h3').text.strip()\n",
    "            price = price_div.text.replace(\"₫\", \"\").replace(\".\", \"\").strip()\n",
    "\n",
    "            headphones_list.append({\n",
    "                \"Product\": headphone_name,\n",
    "                \"Price\": price,\n",
    "                \"Date\": datetime.now().strftime(\"%Y-%m-%d\")\n",
    "            })\n",
    "    else:\n",
    "        print(\"No data found!\")\n",
    "\n",
    "    return headphones_list\n",
    "\n",
    "headphones_data = scrape_headphone_cellphones()\n",
    "print(headphones_data)\n"
   ]
  },
  {
   "cell_type": "code",
   "execution_count": 13,
   "metadata": {},
   "outputs": [
    {
     "name": "stdout",
     "output_type": "stream",
     "text": [
      "Done!!\n"
     ]
    }
   ],
   "source": [
    "def save_data_weekly():\n",
    "    df = pd.DataFrame(headphones_data)\n",
    "    df.to_csv('headphones_prices.csv', mode='a', header=False, index=False)\n",
    "\n",
    "save_data_weekly()\n",
    "print(\"Done!!\") "
   ]
  }
 ],
 "metadata": {
  "kernelspec": {
   "display_name": ".mvenv",
   "language": "python",
   "name": "python3"
  },
  "language_info": {
   "codemirror_mode": {
    "name": "ipython",
    "version": 3
   },
   "file_extension": ".py",
   "mimetype": "text/x-python",
   "name": "python",
   "nbconvert_exporter": "python",
   "pygments_lexer": "ipython3",
   "version": "3.12.4"
  }
 },
 "nbformat": 4,
 "nbformat_minor": 2
}
