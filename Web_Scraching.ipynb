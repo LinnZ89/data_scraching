{
 "cells": [
  {
   "cell_type": "code",
   "execution_count": 19,
   "metadata": {},
   "outputs": [],
   "source": [
    "import requests\n",
    "from bs4 import BeautifulSoup\n",
    "import pandas as pd\n",
    "from datetime import datetime\n",
    "import time\n",
    "from selenium import webdriver\n",
    "from selenium.webdriver.common.by import By\n",
    "from selenium.webdriver.chrome.service import Service"
   ]
  },
  {
   "cell_type": "code",
   "execution_count": 20,
   "metadata": {},
   "outputs": [
    {
     "name": "stdout",
     "output_type": "stream",
     "text": [
      "No more 'Show More' buttons found or an error occurred: Message: element click intercepted: Element <div class=\"cps-block-content_btn-showmore\">...</div> is not clickable at point (456, 848). Other element would receive the click: <div class=\"modal-background\"></div>\n",
      "  (Session info: chrome=129.0.6668.70)\n",
      "Stacktrace:\n",
      "\tGetHandleVerifier [0x00256AB3+25587]\n",
      "\t(No symbol) [0x001E9C54]\n",
      "\t(No symbol) [0x000E2113]\n",
      "\t(No symbol) [0x0012CEB7]\n",
      "\t(No symbol) [0x0012B2B9]\n",
      "\t(No symbol) [0x001291AB]\n",
      "\t(No symbol) [0x00128798]\n",
      "\t(No symbol) [0x0011D58D]\n",
      "\t(No symbol) [0x0014AB9C]\n",
      "\t(No symbol) [0x0011D044]\n",
      "\t(No symbol) [0x0014AE34]\n",
      "\t(No symbol) [0x00165370]\n",
      "\t(No symbol) [0x0014A936]\n",
      "\t(No symbol) [0x0011BA73]\n",
      "\t(No symbol) [0x0011C4CD]\n",
      "\tGetHandleVerifier [0x00534C63+3032483]\n",
      "\tGetHandleVerifier [0x00586B99+3368153]\n",
      "\tGetHandleVerifier [0x002E8F62+624802]\n",
      "\tGetHandleVerifier [0x002F07DC+655644]\n",
      "\t(No symbol) [0x001F260D]\n",
      "\t(No symbol) [0x001EF6D8]\n",
      "\t(No symbol) [0x001EF875]\n",
      "\t(No symbol) [0x001E1CA6]\n",
      "\tBaseThreadInitThunk [0x75297BA9+25]\n",
      "\tRtlInitializeExceptionChain [0x7721C11B+107]\n",
      "\tRtlClearBits [0x7721C09F+191]\n",
      "\t(No symbol) [0x00000000]\n",
      "\n"
     ]
    }
   ],
   "source": [
    "def click_show_more():\n",
    "    service = Service(\"C:\\\\chromedriver-win32\\\\chromedriver.exe\")\n",
    "    driver = webdriver.Chrome(service=service)\n",
    "\n",
    "    url = \"https://cellphones.com.vn/thiet-bi-am-thanh/tai-nghe/tai-nghe-bluetooth.html\"  \n",
    "    driver.get(url)\n",
    "\n",
    "    while True:\n",
    "        try:\n",
    "            \n",
    "            show_more_button = driver.find_element(By.CLASS_NAME, \"cps-block-content_btn-showmore\")\n",
    "            show_more_button.click()\n",
    "            time.sleep(2) \n",
    "        except Exception as e:\n",
    "            print(\"No more 'Show More' buttons found or an error occurred:\", e)\n",
    "            break \n",
    "\n",
    "    page_source = driver.page_source\n",
    "\n",
    "    driver.quit()\n",
    "\n",
    "    return page_source\n",
    "\n",
    "page_source = click_show_more()"
   ]
  },
  {
   "cell_type": "code",
   "execution_count": 21,
   "metadata": {},
   "outputs": [
    {
     "name": "stdout",
     "output_type": "stream",
     "text": [
      "Requests successfully!!\n",
      "[{'Product': 'Tai nghe Bluetooth True Wireless Samsung Galaxy Buds2 Pro', 'Price': '2840000đ', 'Date': '2024-09-29'}, {'Product': 'Tai nghe Bluetooth True Wireless OPPO Enco Air3i - Chỉ có tại CellphoneS', 'Price': '890000đ', 'Date': '2024-09-29'}, {'Product': 'Tai nghe Bluetooth True Wireless Redmi Buds 4 Lite', 'Price': '390000đ', 'Date': '2024-09-29'}, {'Product': 'Tai nghe Bluetooth True Wireless HUAWEI FreeClip', 'Price': '3490000đ', 'Date': '2024-09-29'}, {'Product': 'Tai nghe Bluetooth Apple AirPods Pro 2 2023 USB-C | Chính hãng Apple Việt Nam', 'Price': '5790000đ', 'Date': '2024-09-29'}, {'Product': 'Tai nghe Bluetooth Apple AirPods 3 2022 sạc có dây | Chính hãng Apple Việt Nam', 'Price': '4090000đ', 'Date': '2024-09-29'}, {'Product': 'Tai nghe Bluetooth Apple AirPods 2 | Chính hãng Apple Việt Nam', 'Price': '2990000đ', 'Date': '2024-09-29'}, {'Product': 'Tai nghe Bluetooth Apple AirPods 3 MagSafe | Chính hãng Apple Việt Nam', 'Price': '4690000đ', 'Date': '2024-09-29'}, {'Product': 'Tai nghe Bluetooth Apple AirPods Pro 2022 | Chính hãng Apple Việt Nam', 'Price': '5350000đ', 'Date': '2024-09-29'}, {'Product': 'Tai nghe Bluetooth chụp tai Sony WH-CH520', 'Price': '1090000đ', 'Date': '2024-09-29'}, {'Product': 'Tai nghe Bluetooth True Wireless Samsung Galaxy Buds2 Pro', 'Price': '2840000đ', 'Date': '2024-09-29'}, {'Product': 'Tai nghe Bluetooth True Wireless Samsung Galaxy Buds 3 Pro', 'Price': '5490000đ', 'Date': '2024-09-29'}, {'Product': 'Tai nghe Bluetooth True Wireless JBL Wave Beam', 'Price': '1190000đ', 'Date': '2024-09-29'}, {'Product': 'Tai nghe Bluetooth True Wireless Xiaomi Redmi Buds 6 Active', 'Price': '590000đ', 'Date': '2024-09-29'}, {'Product': 'Tai nghe Bluetooth True Wireless JBL Tune Flex - Chỉ có tại CellphoneS', 'Price': '1890000đ', 'Date': '2024-09-29'}, {'Product': 'Tai nghe Bluetooth chụp tai Edifier W820NB', 'Price': '890000đ', 'Date': '2024-09-29'}, {'Product': 'Tai nghe Bluetooth True Wireless Anker Soundcore R50i A3949', 'Price': '390000đ', 'Date': '2024-09-29'}, {'Product': 'Tai nghe Bluetooth True Wireless Samsung Galaxy Buds FE', 'Price': '1290000đ', 'Date': '2024-09-29'}, {'Product': 'Tai nghe Bluetooth True Wireless Redmi Buds 4 Lite', 'Price': '390000đ', 'Date': '2024-09-29'}, {'Product': 'Tai nghe Bluetooth True Wireless Huawei FreeBuds SE 2', 'Price': '590000đ', 'Date': '2024-09-29'}, {'Product': 'Tai nghe Bluetooth True Wireless JBL Tune Beam', 'Price': '2090000đ', 'Date': '2024-09-29'}, {'Product': 'Tai nghe Bluetooth chụp tai Sony WH-CH720N', 'Price': '2490000đ', 'Date': '2024-09-29'}, {'Product': 'Tai nghe Bluetooth True Wireless Samsung Galaxy Buds 3', 'Price': '3990000đ', 'Date': '2024-09-29'}, {'Product': 'Tai nghe Bluetooth JBL T115BT', 'Price': '240000đ', 'Date': '2024-09-29'}, {'Product': 'Tai nghe Bluetooth True Wireless Marshall Minor 3 (III)', 'Price': '2290000đ', 'Date': '2024-09-29'}, {'Product': 'Tai nghe Bluetooth chụp tai JBL Tune 520BT', 'Price': '1190000đ', 'Date': '2024-09-29'}, {'Product': 'Tai nghe Bluetooth True Wireless Sony WF-1000XM5', 'Price': '5490000đ', 'Date': '2024-09-29'}, {'Product': 'Tai nghe Bluetooth chụp tai Marshall Major 4', 'Price': '3290000đ', 'Date': '2024-09-29'}, {'Product': 'Tai nghe Bluetooth True Wireless Soul S-LIVE 30', 'Price': '350000đ', 'Date': '2024-09-29'}, {'Product': 'Tai nghe Bluetooth True Wireless JBL Tour Pro 2', 'Price': '4290000đ', 'Date': '2024-09-29'}, {'Product': 'Tai nghe Bluetooth True Wireless Baseus Bowie E11', 'Price': '270000đ', 'Date': '2024-09-29'}, {'Product': 'Tai nghe Bluetooth True Wireless SoundPEATS Air4 Pro', 'Price': '1090000đ', 'Date': '2024-09-29'}, {'Product': 'Tai nghe Bluetooth True Wireless Marshall Minor IV', 'Price': '3090000đ', 'Date': '2024-09-29'}, {'Product': 'Tai nghe Bluetooth True Wireless Xiaomi Redmi Buds 4 Active', 'Price': '390000đ', 'Date': '2024-09-29'}, {'Product': 'Tai nghe Bluetooth True Wireless Xiaomi Redmi Buds 5', 'Price': '990000đ', 'Date': '2024-09-29'}, {'Product': 'Tai nghe Bluetooth True Wireless SoundPEATS Mac', 'Price': '390000đ', 'Date': '2024-09-29'}, {'Product': 'Tai nghe Bluetooth chụp tai Edifier W820NB Plus', 'Price': '1190000đ', 'Date': '2024-09-29'}, {'Product': 'Tai nghe Bluetooth True Wireless JBL Tune 230 TWS', 'Price': '1290000đ', 'Date': '2024-09-29'}, {'Product': 'Tai nghe Bluetooth True Wireless Havit TW969', 'Price': '229000đ', 'Date': '2024-09-29'}, {'Product': 'Tai nghe Bluetooth True Wireless SoundPEATS Capsule 3 Pro Transparent', 'Price': '890000đ', 'Date': '2024-09-29'}, {'Product': 'Tai nghe Bluetooth True Wireless Sony WF C500', 'Price': '1590000đ', 'Date': '2024-09-29'}, {'Product': 'Tai nghe Bluetooth chụp tai Baseus Bass 35 Max', 'Price': '585000đ', 'Date': '2024-09-29'}, {'Product': 'Tai nghe Bluetooth True Wireless JBL Wave Buds', 'Price': '1090000đ', 'Date': '2024-09-29'}]\n"
     ]
    }
   ],
   "source": [
    "def scrape_headphone_cellphones():\n",
    "    url = \"https://cellphones.com.vn/thiet-bi-am-thanh/tai-nghe/tai-nghe-bluetooth.html\"\n",
    "    page = requests.get(url=url).text\n",
    "\n",
    "    print(\"Requests successfully!!\")\n",
    "    soup = BeautifulSoup(page_source, \"html.parser\")\n",
    "\n",
    "    headphones_name_divs = soup.find_all('div', class_='product__name')\n",
    "    prices_divs = soup.find_all('p', class_=\"product__price--show\")\n",
    "\n",
    "    headphones_list = []\n",
    "\n",
    "    if headphones_name_divs and prices_divs:\n",
    "\n",
    "        for headphone_div, price_div in zip(headphones_name_divs, prices_divs):\n",
    "            headphone_name = headphone_div.find('h3').text.strip()\n",
    "            price = price_div.text.replace(\"₫\", \"\").replace(\".\", \"\").strip()\n",
    "\n",
    "            headphones_list.append({\n",
    "                \"Product\": headphone_name,\n",
    "                \"Price\": price,\n",
    "                \"Date\": datetime.now().strftime(\"%Y-%m-%d\")\n",
    "            })\n",
    "    else:\n",
    "        print(\"No data found!\")\n",
    "\n",
    "    return headphones_list\n",
    "\n",
    "headphones_data = scrape_headphone_cellphones()\n",
    "print(headphones_data)\n"
   ]
  },
  {
   "cell_type": "code",
   "execution_count": 22,
   "metadata": {},
   "outputs": [
    {
     "name": "stdout",
     "output_type": "stream",
     "text": [
      "Done!!\n"
     ]
    }
   ],
   "source": [
    "def save_data_weekly():\n",
    "    df = pd.DataFrame(headphones_data)\n",
    "    df.to_csv('headphones_prices.csv', mode='a', header=False, index=False)\n",
    "\n",
    "save_data_weekly()\n",
    "print(\"Done!!\") "
   ]
  }
 ],
 "metadata": {
  "kernelspec": {
   "display_name": ".mvenv",
   "language": "python",
   "name": "python3"
  },
  "language_info": {
   "codemirror_mode": {
    "name": "ipython",
    "version": 3
   },
   "file_extension": ".py",
   "mimetype": "text/x-python",
   "name": "python",
   "nbconvert_exporter": "python",
   "pygments_lexer": "ipython3",
   "version": "3.12.4"
  }
 },
 "nbformat": 4,
 "nbformat_minor": 2
}
